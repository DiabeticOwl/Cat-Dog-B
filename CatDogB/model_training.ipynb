{
 "cells": [
  {
   "cell_type": "code",
   "execution_count": 1,
   "id": "2949f349",
   "metadata": {},
   "outputs": [],
   "source": [
    "import torch\n",
    "\n",
    "from data_setup import create_dataloaders\n",
    "from engine import train_model\n",
    "from pathlib import Path\n",
    "from torch import nn\n",
    "from torchmetrics import Accuracy\n",
    "from torchvision.models import ViT_B_16_Weights, vit_b_16\n",
    "from utils import create_writer\n",
    "\n",
    "DEVICE = 'cuda' if torch.cuda.is_available else 'cpu'\n",
    "TRANSFORMERS = ViT_B_16_Weights.DEFAULT.transforms()\n",
    "MODEL = vit_b_16(weights=ViT_B_16_Weights.DEFAULT)\n",
    "MODEL.conv_proj = MODEL.conv_proj.requires_grad_(False)\n",
    "MODEL.encoder = MODEL.encoder.requires_grad_(False)"
   ]
  },
  {
   "cell_type": "code",
   "execution_count": 2,
   "id": "91b4ccbd",
   "metadata": {},
   "outputs": [],
   "source": [
    "imgs_path = Path('../data/restrc-oxford-iiit-pet/')\n",
    "train_dir = imgs_path / 'train'\n",
    "test_dir = imgs_path / 'test'"
   ]
  },
  {
   "cell_type": "code",
   "execution_count": null,
   "id": "f5697615",
   "metadata": {},
   "outputs": [
    {
     "data": {
      "application/vnd.jupyter.widget-view+json": {
       "model_id": "c1b13e7547a44275926aa6cb6a4511da",
       "version_major": 2,
       "version_minor": 0
      },
      "text/plain": [
       "  0%|          | 0/5 [00:00<?, ?it/s]"
      ]
     },
     "metadata": {},
     "output_type": "display_data"
    }
   ],
   "source": [
    "train_dataloader, test_dataloader, class_names = create_dataloaders(\n",
    "    train_dir=train_dir,\n",
    "    test_dir=test_dir,\n",
    "    train_transform=TRANSFORMERS\n",
    ")\n",
    "\n",
    "MODEL.heads = nn.Sequential(\n",
    "    nn.Linear(in_features=768, out_features=len(class_names), bias=True)\n",
    ")\n",
    "\n",
    "optimizer = torch.optim.Adam(MODEL.parameters(),\n",
    "                             lr=1e-3,\n",
    "                             betas=(0.9, 0.999),\n",
    "                             weight_decay=0.1)\n",
    "loss_fn = nn.CrossEntropyLoss()\n",
    "metric_fn = Accuracy(task='multiclass', num_classes=len(class_names))\n",
    "experiment_results_1 = train_model(model=MODEL,\n",
    "                                   train_data=train_dataloader,\n",
    "                                   test_data=test_dataloader,\n",
    "                                   loss_fn=loss_fn,\n",
    "                                   optimizer=optimizer,\n",
    "                                   metric_fn=metric_fn,\n",
    "                                   epochs=5,\n",
    "                                   random_seed=42,\n",
    "                                   verbose=1,\n",
    "                                   writer=create_writer('cat-dog-b-exp_1',\n",
    "                                                        model_name='cat-dog-b',\n",
    "                                                        extra=f'5_epochs'))\n",
    "experiment_results_1"
   ]
  }
 ],
 "metadata": {
  "kernelspec": {
   "display_name": "LearnPyTorchM",
   "language": "python",
   "name": "learnpytorchm"
  },
  "language_info": {
   "codemirror_mode": {
    "name": "ipython",
    "version": 3
   },
   "file_extension": ".py",
   "mimetype": "text/x-python",
   "name": "python",
   "nbconvert_exporter": "python",
   "pygments_lexer": "ipython3",
   "version": "3.10.11"
  }
 },
 "nbformat": 4,
 "nbformat_minor": 5
}
